{
  "nbformat": 4,
  "nbformat_minor": 0,
  "metadata": {
    "colab": {
      "provenance": []
    },
    "kernelspec": {
      "name": "python3",
      "display_name": "Python 3"
    },
    "language_info": {
      "name": "python"
    }
  },
  "cells": [
    {
      "cell_type": "markdown",
      "source": [
        "**Files, exceptional handling, logging and memory management Questions**\n",
        "\n",
        "1.What is the difference between interpreted and compiled languages?\n",
        " - Interpreted languages are translated line-by-line during execution.\n",
        " - Compiled languages are translated into machine code before execution\n",
        "\n",
        "2.What is exception handling in Python?\n",
        " - Exception handling in Python is a way to manage errors that occur during program execution using try, except, else, and finally blocks.\n",
        "\n",
        "3.What is the purpose of the finally block in exception handling?\n",
        " - The finally block in Python is used to define code that always runs,whether an exception was raised or not.\n",
        "\n",
        "4.What is logging in Python?\n",
        " - Logging in Python is the process of recording informational, warning, error, or debugging messages during the execution of a program using the built-in logging module.\n",
        "\n",
        "5.What is the significance of the __del__ method in Python?\n",
        " - The __del__ method in Python is a destructor that is called automatically when an object is about to be destroyed.\n",
        "\n",
        " 6.What is the difference between import and from ... import in Python?\n",
        "  - import module:- Imports the entire module. access functions or classes with the module name.\n",
        "  - from module import name:- Imports specific items from a module, allowing direct access without the module name.\n",
        "\n",
        "7.How can you handle multiple exceptions in Python?\n",
        " - Handle multiple exceptions in Python by using multiple except blocks for different exception types or a single except block with a tuple of exceptions.\n",
        "\n",
        "8.What is the purpose of the with statement when handling files in Python?\n",
        " - The with statement in Python is used to open files safely and automatically close them after use.\n",
        "\n",
        "9.What is the difference between multithreading and multiprocessing?\n",
        " - Multithreading uses multiple threads within a single process to perform tasks concurrently, sharing the same memory space.\n",
        " - multiprocessing uses multiple processes, each with its own memory space, to run tasks in parallel on multiple CPU cores.\n",
        "\n",
        "10.What are the advantages of using logging in a program?\n",
        " - Tracks program execution:- Helps monitor what the program is doing.\n",
        " - Debugging:- Makes it easier to find and fix bugs.\n",
        " - Error reporting:- Records exceptions and issues during runtime.\n",
        " - Permanent records:- Logs can be saved to files for later analysis.\n",
        "\n",
        "11.What is memory management in Python?\n",
        " - Memory management in Python is the process of allocating, using, and freeing memory during the execution of a program.\n",
        "\n",
        "12.What are the basic steps involved in exception handling in Python?\n",
        " - 1.Try Block:-Write the code that might cause an error.\n",
        " - 2.Except Block:-Write the code to handle the error.\n",
        " - 3.Else Block:-Runs only if no error occurs in the try block.\n",
        " - 4.Finally Block:-Runs every time.\n",
        "\n",
        "13.Why is memory management important in Python?\n",
        " - Memory management is important in Python because it ensures that programs run efficiently and do not consume more memory than needed.\n",
        "\n",
        "14.What is the role of try and except in exception handling?\n",
        " - try block:\n",
        "     - This is where write the code that might cause an error.\n",
        " - except block:\n",
        "     - This is where handle the error if something goes wrong in the try block.\n",
        "\n",
        "15.How does Python's garbage collection system work?\n",
        " - Python's garbage collection system automatically frees up memory by removing objects that are no longer used.\n",
        "  - 1.Reference Counting:-When the count becomes zero, the object is deleted.\n",
        "  - 2.Garbage Collector (GC):-Python’s garbage collector can detect and remove such unused objects.\n",
        "  - 3.Automatic and Manual Collection:-Python runs garbage collection automatically in the background.\n",
        "\n",
        "16.What is the purpose of the else block in exception handling?\n",
        " - The else block runs only if no exception occurs in the try block.\n",
        "\n",
        "17.What are the common logging levels in Python?\n",
        " - Common Logging Levels in Python (from lowest to highest)\n",
        "  - DEBUG:-Detailed information, used for debugging.\n",
        "  - INFO:-General information about program execution.\n",
        "  - WARNING:-Something unexpected happened, but the program still works.\n",
        "  - ERROR:-A serious problem that caused part of the program to fail.\n",
        "  - CRITICAL:-A very serious error; the program may not be able to continue.\n",
        "\n",
        "18.What is the difference between os.fork() and multiprocessing in Python?\n",
        " - os.fork( ):- Creates a child process by duplicating the current process (UNIX only).\n",
        " - multiprocessing:- Creates and manages new processes using a high-level API.\n",
        "\n",
        "19.What is the importance of closing a file in Python?\n",
        " - Closing a file is important because it:\n",
        "  - Frees system resources:-Open files use memory and system resources. Closing them releases these resources.\n",
        "  - Saves data properly:- When writing to a file, closing ensures all data is actually written to disk.\n",
        "\n",
        "20.What is the difference between file.read() and file.readline() in Python?\n",
        " - file.read():- Reads the entire file content as one big string.\n",
        " - file.readline():- Reads only one line from the file at a time.\n",
        "\n",
        "21.What is the logging module in Python used for?\n",
        " - The logging module in Python is used to record messages (logs) about what program is doing like errors, warnings, or normal events.\n",
        "\n",
        "22.What is the os module in Python used for in file handling?\n",
        " - The os module in Python is used to interact with the operating system, especially for file and folder handling.\n",
        " - Common Uses in File Handling:-\n",
        "  - Create folders\n",
        "  - Delete files or folders\n",
        "\n",
        "23.What are the challenges associated with memory management in Python?\n",
        " - Challenges Associated with Memory Management in Python:-\n",
        "  - Memory Leaks:- Can occur due to circular references or poor coding practices.\n",
        "  -  High Memory Usage:- object overhead can increase memory use\n",
        "  -  Large Data Handling:- Processing large datasets in memory can be inefficient if not managed well.\n",
        "\n",
        "24.How do you raise an exception manually in Python?\n",
        " - Raising an exception means manually creating an error in program using the raise keyword when something unexpected happens.\n",
        "\n",
        "25.Why is it important to use multithreading in certain applications?\n",
        " - Importance of Using Multithreading:\n",
        "  - Concurrency:- Allows handling of multiple tasks without waiting for each to finish one by one.\n",
        "  - Better Resource Use:- Keeps the CPU busy while waiting for I/O tasks.\n",
        "  - Faster Execution:- It helps save time and keeps programs responsive.\n",
        "\n",
        "  \n",
        "\n",
        "\n",
        "\n",
        "\n",
        "\n",
        "\n",
        "\n",
        "\n"
      ],
      "metadata": {
        "id": "ZFy4rdCWiczd"
      }
    },
    {
      "cell_type": "code",
      "execution_count": null,
      "metadata": {
        "id": "R19vXjZniJq7"
      },
      "outputs": [],
      "source": [
        "#Practical Questions"
      ]
    },
    {
      "cell_type": "code",
      "source": [
        "#1.How can you open a file for writing in Python and write a string to it?\n",
        "file = open(\"example.txt\",\"w\")\n",
        "file.write(\"Hello, world!\")\n",
        "file.close()"
      ],
      "metadata": {
        "id": "Ghu07GJN2Pql"
      },
      "execution_count": null,
      "outputs": []
    },
    {
      "cell_type": "code",
      "source": [
        "#2.Write a Python program to read the contents of a file and print each line.\n",
        "file = open(\"example.txt\",\"w\")\n",
        "file.write(\"Hello, world!\\n\")\n",
        "file.write(\"This is my example file\\n\")\n",
        "file.close()\n",
        "\n",
        "file = open(\"example.txt\",\"r\")\n",
        "for line in file:\n",
        "  print(line)\n"
      ],
      "metadata": {
        "colab": {
          "base_uri": "https://localhost:8080/"
        },
        "id": "e40Tu1EC3XM2",
        "outputId": "1ab4748d-a815-4be5-e9e7-0fce2496ba20"
      },
      "execution_count": null,
      "outputs": [
        {
          "output_type": "stream",
          "name": "stdout",
          "text": [
            "Hello, world!\n",
            "\n",
            "This is my example file\n",
            "\n"
          ]
        }
      ]
    },
    {
      "cell_type": "code",
      "source": [
        "#3.How would you handle a case where the file doesn't exist while trying to open it for reading?\n",
        "try:\n",
        "  file = open(\"test.txt\",\"r\")\n",
        "  file.read()\n",
        "except FileNotFoundError as e:\n",
        "  print(\"The file not found error: \",e)"
      ],
      "metadata": {
        "colab": {
          "base_uri": "https://localhost:8080/"
        },
        "id": "QurRdzXZ6tZC",
        "outputId": "aed97b68-b9c7-426d-e238-cccf9b8a4b3a"
      },
      "execution_count": null,
      "outputs": [
        {
          "output_type": "stream",
          "name": "stdout",
          "text": [
            "The file not found error:  [Errno 2] No such file or directory: 'test.txt'\n"
          ]
        }
      ]
    },
    {
      "cell_type": "code",
      "source": [
        "#4.Write a Python script that reads from one file and writes its content to another file.\n",
        "file = open(\"example.txt\",\"w\")\n",
        "file.write(\"Hello, world!\\n\")\n",
        "file.write(\"This is my example file\\n\")\n",
        "file.close()\n",
        "\n",
        "file = open(\"example.txt\",\"r\")\n",
        "\n",
        "\n",
        "f = open(\"example1.txt\",\"w\")\n",
        "for line in file:\n",
        "  f.write(line)\n",
        "\n",
        "file.close()\n",
        "f.close()"
      ],
      "metadata": {
        "id": "M7f7F5SI67uW"
      },
      "execution_count": null,
      "outputs": []
    },
    {
      "cell_type": "code",
      "source": [
        "#5.How would you catch and handle division by zero error in Python?\n",
        "try:\n",
        "  10/0\n",
        "except ZeroDivisionError as e:\n",
        "  print(\"This is a zero division error: \",e)\n"
      ],
      "metadata": {
        "colab": {
          "base_uri": "https://localhost:8080/"
        },
        "id": "SoiOTums9zbf",
        "outputId": "98f90a3f-c795-448a-f9bb-de19935c4030"
      },
      "execution_count": null,
      "outputs": [
        {
          "output_type": "stream",
          "name": "stdout",
          "text": [
            "This is a zero division error:  division by zero\n"
          ]
        }
      ]
    },
    {
      "cell_type": "code",
      "source": [
        "#6.Write a Python program that logs an error message to a log file when a division by zero exception occurs.\n",
        "import logging\n",
        "logging.basicConfig(filename=\"example.txt\",level=logging. ERROR)\n",
        "try:\n",
        "  10/0\n",
        "except ZeroDivisionError as e:\n",
        "  logging.error(\"This is a zero division error: %s\",e)\n",
        "logging.shutdown()"
      ],
      "metadata": {
        "colab": {
          "base_uri": "https://localhost:8080/"
        },
        "id": "uo4BubWX_FiQ",
        "outputId": "84507fb4-72c0-4642-92e0-d1015caf0a6c"
      },
      "execution_count": null,
      "outputs": [
        {
          "output_type": "stream",
          "name": "stderr",
          "text": [
            "ERROR:root:This is a zero division error: division by zero\n"
          ]
        }
      ]
    },
    {
      "cell_type": "code",
      "source": [
        "#7.How do you log information at different levels (INFO, ERROR, WARNING) in Python using the logging module?\n",
        "import logging\n",
        "logging.basicConfig(filename=\"example.txt\",level=logging.DEBUG,format = \"%(asctime)s %(levelname)s %(message)s\")\n",
        "logging.info(\"General information about program execution.\")\n",
        "logging.warning(\"Something unexpected but not breaking\")\n",
        "logging.error(\"A serious problem that caused part of the program to fail.\")\n",
        "logging.shutdown()"
      ],
      "metadata": {
        "colab": {
          "base_uri": "https://localhost:8080/"
        },
        "id": "2TFwV7MRAB1o",
        "outputId": "bc68c32b-6355-4ce2-de43-59a3256feea7"
      },
      "execution_count": null,
      "outputs": [
        {
          "output_type": "stream",
          "name": "stderr",
          "text": [
            "WARNING:root:Something unexpected but not breaking\n",
            "ERROR:root:A serious problem that caused part of the program to fail.\n"
          ]
        }
      ]
    },
    {
      "cell_type": "code",
      "source": [
        "#8.Write a program to handle a file opening error using exception handling.\n",
        "try:\n",
        "  file = open(\"test.txt\",\"r\")\n",
        "  r = file.read()\n",
        "  print(r)\n",
        "except FileNotFoundError as e:\n",
        "  print(\"This is file not found error: \",e)"
      ],
      "metadata": {
        "colab": {
          "base_uri": "https://localhost:8080/"
        },
        "id": "g-lGD60jDHzt",
        "outputId": "175213b6-f1fd-45c0-b047-20593dbe57c8"
      },
      "execution_count": null,
      "outputs": [
        {
          "output_type": "stream",
          "name": "stdout",
          "text": [
            "This is file not found error:  [Errno 2] No such file or directory: 'test.txt'\n"
          ]
        }
      ]
    },
    {
      "cell_type": "code",
      "source": [
        "#9.How can you read a file line by line and store its content in a list in Python?\n",
        "file = open(\"example.txt\",\"w\")\n",
        "file.write(\"Hello, world!\\n\")\n",
        "file.write(\"This is my example file\\n\")\n",
        "file.write(\"This is a third line of a file\\n\")\n",
        "file.close()\n",
        "\n",
        "file = open(\"example.txt\",\"r\")\n",
        "r = file.readlines()\n",
        "file.close()\n",
        "print(r)\n"
      ],
      "metadata": {
        "colab": {
          "base_uri": "https://localhost:8080/"
        },
        "id": "0m_koqsQE3Xd",
        "outputId": "dc9f1a30-fa93-4982-e03a-92bf0090a5d2"
      },
      "execution_count": 11,
      "outputs": [
        {
          "output_type": "stream",
          "name": "stdout",
          "text": [
            "['Hello, world!\\n', 'This is my example file\\n', 'This is a third line of a file\\n']\n"
          ]
        }
      ]
    },
    {
      "cell_type": "code",
      "source": [
        "#10.How can you append data to an existing file in Python?\n",
        "file = open(\"example.txt\",\"a\")\n",
        "file.write(\"I added data in example file\")\n",
        "file.close()\n",
        "\n",
        "file = open(\"example.txt\",\"r\")\n",
        "r = file.read()\n",
        "file.close()\n",
        "print(r)"
      ],
      "metadata": {
        "colab": {
          "base_uri": "https://localhost:8080/"
        },
        "id": "LoNyaTeKHRD8",
        "outputId": "22cd24fc-5804-4be6-dd97-d231e7bd1d8a"
      },
      "execution_count": 12,
      "outputs": [
        {
          "output_type": "stream",
          "name": "stdout",
          "text": [
            "Hello, world!\n",
            "This is my example file\n",
            "This is a third line of a file\n",
            "I added data in example file\n"
          ]
        }
      ]
    },
    {
      "cell_type": "code",
      "source": [
        "#11.Write a Python program that uses a try-except block to handle an error when attempting to access a dictionary key that doesn't exist.\n",
        "dic = {\"name\":\"Nayan\",\"city\":\"mumbai\"}\n",
        "try:\n",
        "  dic[\"age\"]\n",
        "except KeyError as e:\n",
        "  print(\"This is a key error: \",e)"
      ],
      "metadata": {
        "colab": {
          "base_uri": "https://localhost:8080/"
        },
        "id": "GwTMxmMfJfKu",
        "outputId": "e0719f8a-17b5-4d77-b0d0-40e9d0536cc4"
      },
      "execution_count": null,
      "outputs": [
        {
          "output_type": "stream",
          "name": "stdout",
          "text": [
            "This ia a key error:  'age'\n"
          ]
        }
      ]
    },
    {
      "cell_type": "code",
      "source": [
        "#12.Write a program that demonstrates using multiple except blocks to handle different types of exceptions.\n",
        "try:\n",
        "  10/0\n",
        "except ZeroDivisionError as e:\n",
        "  print(\"This is a zero division error: \",e)\n",
        "except TypeError as e:\n",
        "  print(\"This is a type error: \",e)\n"
      ],
      "metadata": {
        "colab": {
          "base_uri": "https://localhost:8080/"
        },
        "id": "rOH_aaUYRaTC",
        "outputId": "20466c33-750d-4c7b-c17f-b1749060b7d0"
      },
      "execution_count": null,
      "outputs": [
        {
          "output_type": "stream",
          "name": "stdout",
          "text": [
            "This is a zero division error:  division by zero\n"
          ]
        }
      ]
    },
    {
      "cell_type": "code",
      "source": [
        "#13.How would you check if a file exists before attempting to read it in Python?\n",
        "import os\n",
        "filename = \"example.txt\"\n",
        "\n",
        "if os.path.exists(filename):\n",
        "  with open(filename,\"r\") as f:\n",
        "    r = f.read()\n",
        "    print(r)\n",
        "else:\n",
        "  print(\"File does not exits\")"
      ],
      "metadata": {
        "colab": {
          "base_uri": "https://localhost:8080/"
        },
        "id": "DDmCJHUyRf9E",
        "outputId": "e2773362-2710-46af-e6bc-16c9668a46e3"
      },
      "execution_count": 13,
      "outputs": [
        {
          "output_type": "stream",
          "name": "stdout",
          "text": [
            "Hello, world!\n",
            "This is my example file\n",
            "This is a third line of a file\n",
            "I added data in example file\n"
          ]
        }
      ]
    },
    {
      "cell_type": "code",
      "source": [
        "#14.Write a program that uses the logging module to log both informational and error messages.\n",
        "import logging\n",
        "logging.basicConfig(filename = \"example.txt\",level = logging.DEBUG,format=\"%(asctime)s %(levelname)s %(message)s\")\n",
        "logging.info(\"Program started\")\n",
        "try:\n",
        "  result = 10/0\n",
        "  logging.info(f\"The result is {result}\")\n",
        "except ZeroDivisionError as e:\n",
        "  logging.error(f\"An error occurred: {e}\")\n",
        "\n",
        "logging.info(\"Program ended\")"
      ],
      "metadata": {
        "id": "ZLP2oleSYd_L",
        "colab": {
          "base_uri": "https://localhost:8080/"
        },
        "outputId": "c798cf1f-a9dc-41ad-a493-17ddebc112da"
      },
      "execution_count": 3,
      "outputs": [
        {
          "output_type": "stream",
          "name": "stderr",
          "text": [
            "ERROR:root:A error occurred: division by zero\n"
          ]
        }
      ]
    },
    {
      "cell_type": "code",
      "source": [
        "#15.Write a Python program that prints the content of a file and handles the case when the file is empty.\n",
        "try:\n",
        "  with open(\"example.txt\",\"r\") as f:\n",
        "    content = f.read()\n",
        "    if content:\n",
        "      print(content)\n",
        "    else:\n",
        "      print(\"File is empty.\")\n",
        "except FileNotFoundError as e:\n",
        "  print(\"This is an error:\",e)"
      ],
      "metadata": {
        "id": "Iifwn9TjeRRw",
        "colab": {
          "base_uri": "https://localhost:8080/"
        },
        "outputId": "d35cd97e-6ac5-420c-b538-34edb1b4666f"
      },
      "execution_count": 14,
      "outputs": [
        {
          "output_type": "stream",
          "name": "stdout",
          "text": [
            "Hello, world!\n",
            "This is my example file\n",
            "This is a third line of a file\n",
            "I added data in example file\n"
          ]
        }
      ]
    },
    {
      "cell_type": "code",
      "source": [
        "#16.Demonstrate how to use memory profiling to check the memory usage of a small program.\n",
        "!pip install -q memory-profiler"
      ],
      "metadata": {
        "id": "uTthtF8hUgKu"
      },
      "execution_count": 64,
      "outputs": []
    },
    {
      "cell_type": "code",
      "source": [
        "%load_ext memory_profiler"
      ],
      "metadata": {
        "id": "6BHD4s3jqYXm"
      },
      "execution_count": 65,
      "outputs": []
    },
    {
      "cell_type": "code",
      "source": [
        "def create_list():\n",
        "    a = [i for i in range(1000000)]  # 1 million integers\n",
        "    return a\n",
        "\n",
        "%memit create_list()"
      ],
      "metadata": {
        "colab": {
          "base_uri": "https://localhost:8080/"
        },
        "id": "beS84GYCqceq",
        "outputId": "0d9c76b4-6443-4b12-cb20-665e9390a6aa"
      },
      "execution_count": 67,
      "outputs": [
        {
          "output_type": "stream",
          "name": "stdout",
          "text": [
            "peak memory: 334.25 MiB, increment: 4.19 MiB\n"
          ]
        }
      ]
    },
    {
      "cell_type": "code",
      "source": [
        "#17.Write a Python program to create and write a list of numbers to a file, one number per line.\n",
        "number = [1,2,3,4,5]\n",
        "with open(\"number.txt\",\"w\") as f:\n",
        "  for i in number:\n",
        "    f.write(str(i) + \"\\n\")\n",
        "\n",
        "with open(\"number.txt\",\"r\") as f:\n",
        "  r = f.read()\n",
        "  print(r)"
      ],
      "metadata": {
        "colab": {
          "base_uri": "https://localhost:8080/"
        },
        "id": "tdBKV6INUivV",
        "outputId": "42e049f7-c970-4f9d-d8f4-2660af2e5458"
      },
      "execution_count": 21,
      "outputs": [
        {
          "output_type": "stream",
          "name": "stdout",
          "text": [
            "1\n",
            "2\n",
            "3\n",
            "4\n",
            "5\n",
            "\n"
          ]
        }
      ]
    },
    {
      "cell_type": "code",
      "source": [
        "#18.How would you implement a basic logging setup that logs to a file with rotation after 1MB?\n",
        "import logging\n",
        "from logging.handlers import RotatingFileHandler\n",
        "\n",
        "# Configure a rotating file handler (rotate after ~10KB for demo)\n",
        "handler = RotatingFileHandler(\"app.log\", maxBytes=10_000, backupCount=2)\n",
        "formatter = logging.Formatter('%(asctime)s - %(message)s')\n",
        "handler.setFormatter(formatter)\n",
        "\n",
        "# Set up the logger\n",
        "logger = logging.getLogger()\n",
        "logger.setLevel(logging.INFO)\n",
        "logger.addHandler(handler)\n",
        "\n",
        "# Write enough log entries to trigger rotation\n",
        "for i in range(300):\n",
        "    logger.info(\"This is a test log message \" + \"x\" * 100)\n"
      ],
      "metadata": {
        "id": "6W3-a5wJsZqH"
      },
      "execution_count": null,
      "outputs": []
    },
    {
      "cell_type": "code",
      "source": [
        "#19.Write a program that handles both IndexError and KeyError using a try-except block.\n",
        "lis = [1,2,3,4]\n",
        "dic = {\"name\":\"nayan\",\"city\":\"mumbai\"}\n",
        "try:\n",
        "  lis[4]\n",
        "except IndexError as e:\n",
        "  print(\"This is an index error: \",e)\n",
        "\n",
        "try:\n",
        "  dic[\"age\"]\n",
        "except KeyError as e:\n",
        "  print(\"This is an key error: \",e)"
      ],
      "metadata": {
        "colab": {
          "base_uri": "https://localhost:8080/"
        },
        "id": "42dOWXE8YTx7",
        "outputId": "eaaed8b3-a302-4cb4-8b65-b251ddb0d0a8"
      },
      "execution_count": 50,
      "outputs": [
        {
          "output_type": "stream",
          "name": "stdout",
          "text": [
            "This is an index error:  list index out of range\n",
            "This is an key error:  'age'\n"
          ]
        }
      ]
    },
    {
      "cell_type": "code",
      "source": [
        "#20.How would you open a file and read its contents using a context manager in Python?\n",
        "with open(\"example.txt\",\"r\") as f:\n",
        "  r = f.read()\n",
        "  print(r)"
      ],
      "metadata": {
        "colab": {
          "base_uri": "https://localhost:8080/"
        },
        "id": "PKd7vseOZFbn",
        "outputId": "e05e8acf-70c4-405d-ef48-f3b10c8336ae"
      },
      "execution_count": 26,
      "outputs": [
        {
          "output_type": "stream",
          "name": "stdout",
          "text": [
            "Hello, world!\n",
            "This is my example file\n",
            "This is a third line of a file\n",
            "I added data in example file\n"
          ]
        }
      ]
    },
    {
      "cell_type": "code",
      "source": [
        "#21.Write a Python program that reads a file and prints the number of occurrences of a specific word.\n",
        "word = \"file\"\n",
        "count = 0\n",
        "with open(\"example.txt\",\"r\") as f:\n",
        "  r = f.read()\n",
        "  count = r.count(word)\n",
        "print(f\"This word is {word} appears {count} times.\")\n"
      ],
      "metadata": {
        "colab": {
          "base_uri": "https://localhost:8080/"
        },
        "id": "OsZcFrGUZgCr",
        "outputId": "d77d53c1-cde9-40f3-ca71-b602a0388169"
      },
      "execution_count": 38,
      "outputs": [
        {
          "output_type": "stream",
          "name": "stdout",
          "text": [
            "This word is file appears 3 times \n"
          ]
        }
      ]
    },
    {
      "cell_type": "code",
      "source": [
        "#22.How can you check if a file is empty before attempting to read its contents?\n",
        "filename = \"test.txt\"\n",
        "try:\n",
        "  with open(filename,\"r\") as f:\n",
        "    content = f.read()\n",
        "    if content:\n",
        "      print(content)\n",
        "    else:\n",
        "      print(\"File is empty\")\n",
        "except FileNotFoundError as e:\n",
        "  print(\"The file not found error: \",e)"
      ],
      "metadata": {
        "colab": {
          "base_uri": "https://localhost:8080/"
        },
        "id": "Ei5-AOusbkBC",
        "outputId": "790c1f0c-d7df-4487-b9d7-8265f134a4ed"
      },
      "execution_count": 46,
      "outputs": [
        {
          "output_type": "stream",
          "name": "stdout",
          "text": [
            "The file not found error:  [Errno 2] No such file or directory: 'example1.txt'\n"
          ]
        }
      ]
    },
    {
      "cell_type": "code",
      "source": [
        "#23.Write a Python program that writes to a log file when an error occurs during file handling.\n",
        "import logging\n",
        "logging.basicConfig(filename = \"example.txt\",level = logging.DEBUG,format = \"%(asctime)s %(levelname)s %(message)s\")\n",
        "logging.info(\"Program started\")\n",
        "\n",
        "filename = \"test.txt\"\n",
        "\n",
        "try:\n",
        "  with open(filename,\"r\") as f:\n",
        "    r = f.read()\n",
        "    print(r)\n",
        "\n",
        "except FileNotFoundError as e:\n",
        "  logging.error(f\"file not found: {e}\")\n",
        "\n",
        "except Exception as e:\n",
        "  logging.error(f\"unexpected error occurred: {e}\")"
      ],
      "metadata": {
        "colab": {
          "base_uri": "https://localhost:8080/"
        },
        "id": "U3uE5gZAfTVp",
        "outputId": "82070b52-ab73-4862-93f8-b5f44d3901fe"
      },
      "execution_count": 53,
      "outputs": [
        {
          "output_type": "stream",
          "name": "stderr",
          "text": [
            "ERROR:root:file not found: [Errno 2] No such file or directory: 'test.txt'\n"
          ]
        }
      ]
    },
    {
      "cell_type": "code",
      "source": [],
      "metadata": {
        "id": "vQYTfL7djN84"
      },
      "execution_count": null,
      "outputs": []
    }
  ]
}